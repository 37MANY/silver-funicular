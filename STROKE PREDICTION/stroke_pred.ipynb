{
 "cells": [
  {
   "cell_type": "code",
   "execution_count": 28,
   "metadata": {
    "collapsed": true,
    "ExecuteTime": {
     "start_time": "2023-05-29T21:31:27.415267Z",
     "end_time": "2023-05-29T21:31:27.481959Z"
    }
   },
   "outputs": [
    {
     "data": {
      "text/plain": "   gender  age  hypertension  heart_disease ever_married      work_type  \\\n0    male   67             0              1          yes        private   \n1  female   61             0              0          yes  self-employed   \n2    male   80             0              1          yes        private   \n3  female   49             0              0          yes        private   \n4  female   79             1              0          yes  self-employed   \n\n  residence_type  avg_glucose_level   bmi   smoking_status  stroke  \n0          urban             228.69  36.6  formerly smoked       1  \n1          rural             202.21   NaN     never smoked       1  \n2          rural             105.92  32.5     never smoked       1  \n3          urban             171.23  34.4           smokes       1  \n4          rural             174.12  24.0     never smoked       1  ",
      "text/html": "<div>\n<style scoped>\n    .dataframe tbody tr th:only-of-type {\n        vertical-align: middle;\n    }\n\n    .dataframe tbody tr th {\n        vertical-align: top;\n    }\n\n    .dataframe thead th {\n        text-align: right;\n    }\n</style>\n<table border=\"1\" class=\"dataframe\">\n  <thead>\n    <tr style=\"text-align: right;\">\n      <th></th>\n      <th>gender</th>\n      <th>age</th>\n      <th>hypertension</th>\n      <th>heart_disease</th>\n      <th>ever_married</th>\n      <th>work_type</th>\n      <th>residence_type</th>\n      <th>avg_glucose_level</th>\n      <th>bmi</th>\n      <th>smoking_status</th>\n      <th>stroke</th>\n    </tr>\n  </thead>\n  <tbody>\n    <tr>\n      <th>0</th>\n      <td>male</td>\n      <td>67</td>\n      <td>0</td>\n      <td>1</td>\n      <td>yes</td>\n      <td>private</td>\n      <td>urban</td>\n      <td>228.69</td>\n      <td>36.6</td>\n      <td>formerly smoked</td>\n      <td>1</td>\n    </tr>\n    <tr>\n      <th>1</th>\n      <td>female</td>\n      <td>61</td>\n      <td>0</td>\n      <td>0</td>\n      <td>yes</td>\n      <td>self-employed</td>\n      <td>rural</td>\n      <td>202.21</td>\n      <td>NaN</td>\n      <td>never smoked</td>\n      <td>1</td>\n    </tr>\n    <tr>\n      <th>2</th>\n      <td>male</td>\n      <td>80</td>\n      <td>0</td>\n      <td>1</td>\n      <td>yes</td>\n      <td>private</td>\n      <td>rural</td>\n      <td>105.92</td>\n      <td>32.5</td>\n      <td>never smoked</td>\n      <td>1</td>\n    </tr>\n    <tr>\n      <th>3</th>\n      <td>female</td>\n      <td>49</td>\n      <td>0</td>\n      <td>0</td>\n      <td>yes</td>\n      <td>private</td>\n      <td>urban</td>\n      <td>171.23</td>\n      <td>34.4</td>\n      <td>smokes</td>\n      <td>1</td>\n    </tr>\n    <tr>\n      <th>4</th>\n      <td>female</td>\n      <td>79</td>\n      <td>1</td>\n      <td>0</td>\n      <td>yes</td>\n      <td>self-employed</td>\n      <td>rural</td>\n      <td>174.12</td>\n      <td>24.0</td>\n      <td>never smoked</td>\n      <td>1</td>\n    </tr>\n  </tbody>\n</table>\n</div>"
     },
     "execution_count": 28,
     "metadata": {},
     "output_type": "execute_result"
    }
   ],
   "source": [
    "import pandas as pd\n",
    "df = pd.read_csv(\"healthcare-dataset-stroke-data.csv\", delimiter=\",\", encoding = 'utf-8')\n",
    "df[\"age\"] = df[\"age\"].astype(int)\n",
    "df.drop('id', inplace=True, axis=1)\n",
    "df.columns = df.columns.str.lower()\n",
    "columns = list(df.columns)\n",
    "for column in columns:\n",
    "  if df[column].dtype == 'object':\n",
    "    df[column] = df[column].str.lower()\n",
    "\n",
    "df.head()"
   ]
  },
  {
   "cell_type": "code",
   "execution_count": 29,
   "outputs": [
    {
     "name": "stdout",
     "output_type": "stream",
     "text": [
      "<class 'pandas.core.frame.DataFrame'>\n",
      "RangeIndex: 5110 entries, 0 to 5109\n",
      "Data columns (total 11 columns):\n",
      " #   Column             Non-Null Count  Dtype  \n",
      "---  ------             --------------  -----  \n",
      " 0   gender             5110 non-null   object \n",
      " 1   age                5110 non-null   int32  \n",
      " 2   hypertension       5110 non-null   int64  \n",
      " 3   heart_disease      5110 non-null   int64  \n",
      " 4   ever_married       5110 non-null   object \n",
      " 5   work_type          5110 non-null   object \n",
      " 6   residence_type     5110 non-null   object \n",
      " 7   avg_glucose_level  5110 non-null   float64\n",
      " 8   bmi                4909 non-null   float64\n",
      " 9   smoking_status     5110 non-null   object \n",
      " 10  stroke             5110 non-null   int64  \n",
      "dtypes: float64(2), int32(1), int64(3), object(5)\n",
      "memory usage: 419.3+ KB\n"
     ]
    }
   ],
   "source": [
    "df.info()"
   ],
   "metadata": {
    "collapsed": false,
    "ExecuteTime": {
     "start_time": "2023-05-29T21:31:27.473959Z",
     "end_time": "2023-05-29T21:31:27.482957Z"
    }
   }
  },
  {
   "cell_type": "code",
   "execution_count": 30,
   "outputs": [
    {
     "data": {
      "text/plain": "gender                 0\nage                    0\nhypertension           0\nheart_disease          0\never_married           0\nwork_type              0\nresidence_type         0\navg_glucose_level      0\nbmi                  201\nsmoking_status         0\nstroke                 0\ndtype: int64"
     },
     "execution_count": 30,
     "metadata": {},
     "output_type": "execute_result"
    }
   ],
   "source": [
    "df.isnull().sum()"
   ],
   "metadata": {
    "collapsed": false,
    "ExecuteTime": {
     "start_time": "2023-05-29T21:31:27.479958Z",
     "end_time": "2023-05-29T21:31:27.495961Z"
    }
   }
  },
  {
   "cell_type": "code",
   "execution_count": 31,
   "outputs": [
    {
     "data": {
      "text/plain": "gender               0\nage                  0\nhypertension         0\nheart_disease        0\never_married         0\nwork_type            0\nresidence_type       0\navg_glucose_level    0\nbmi                  0\nsmoking_status       0\nstroke               0\ndtype: int64"
     },
     "execution_count": 31,
     "metadata": {},
     "output_type": "execute_result"
    }
   ],
   "source": [
    "df['bmi'].fillna(round(df['bmi'].mean(), 1), inplace=True)\n",
    "df.isnull().sum()"
   ],
   "metadata": {
    "collapsed": false,
    "ExecuteTime": {
     "start_time": "2023-05-29T21:31:27.494959Z",
     "end_time": "2023-05-29T21:31:27.650958Z"
    }
   }
  },
  {
   "cell_type": "code",
   "execution_count": 32,
   "outputs": [
    {
     "data": {
      "text/plain": "   gender  age  hypertension  heart_disease ever_married      work_type  \\\n0    male   67             0              1          yes        private   \n1  female   61             0              0          yes  self-employed   \n2    male   80             0              1          yes        private   \n3  female   49             0              0          yes        private   \n4  female   79             1              0          yes  self-employed   \n\n  residence_type  avg_glucose_level   bmi   smoking_status  stroke  \n0          urban             228.69  36.6  formerly smoked       1  \n1          rural             202.21  28.9     never smoked       1  \n2          rural             105.92  32.5     never smoked       1  \n3          urban             171.23  34.4           smokes       1  \n4          rural             174.12  24.0     never smoked       1  ",
      "text/html": "<div>\n<style scoped>\n    .dataframe tbody tr th:only-of-type {\n        vertical-align: middle;\n    }\n\n    .dataframe tbody tr th {\n        vertical-align: top;\n    }\n\n    .dataframe thead th {\n        text-align: right;\n    }\n</style>\n<table border=\"1\" class=\"dataframe\">\n  <thead>\n    <tr style=\"text-align: right;\">\n      <th></th>\n      <th>gender</th>\n      <th>age</th>\n      <th>hypertension</th>\n      <th>heart_disease</th>\n      <th>ever_married</th>\n      <th>work_type</th>\n      <th>residence_type</th>\n      <th>avg_glucose_level</th>\n      <th>bmi</th>\n      <th>smoking_status</th>\n      <th>stroke</th>\n    </tr>\n  </thead>\n  <tbody>\n    <tr>\n      <th>0</th>\n      <td>male</td>\n      <td>67</td>\n      <td>0</td>\n      <td>1</td>\n      <td>yes</td>\n      <td>private</td>\n      <td>urban</td>\n      <td>228.69</td>\n      <td>36.6</td>\n      <td>formerly smoked</td>\n      <td>1</td>\n    </tr>\n    <tr>\n      <th>1</th>\n      <td>female</td>\n      <td>61</td>\n      <td>0</td>\n      <td>0</td>\n      <td>yes</td>\n      <td>self-employed</td>\n      <td>rural</td>\n      <td>202.21</td>\n      <td>28.9</td>\n      <td>never smoked</td>\n      <td>1</td>\n    </tr>\n    <tr>\n      <th>2</th>\n      <td>male</td>\n      <td>80</td>\n      <td>0</td>\n      <td>1</td>\n      <td>yes</td>\n      <td>private</td>\n      <td>rural</td>\n      <td>105.92</td>\n      <td>32.5</td>\n      <td>never smoked</td>\n      <td>1</td>\n    </tr>\n    <tr>\n      <th>3</th>\n      <td>female</td>\n      <td>49</td>\n      <td>0</td>\n      <td>0</td>\n      <td>yes</td>\n      <td>private</td>\n      <td>urban</td>\n      <td>171.23</td>\n      <td>34.4</td>\n      <td>smokes</td>\n      <td>1</td>\n    </tr>\n    <tr>\n      <th>4</th>\n      <td>female</td>\n      <td>79</td>\n      <td>1</td>\n      <td>0</td>\n      <td>yes</td>\n      <td>self-employed</td>\n      <td>rural</td>\n      <td>174.12</td>\n      <td>24.0</td>\n      <td>never smoked</td>\n      <td>1</td>\n    </tr>\n  </tbody>\n</table>\n</div>"
     },
     "execution_count": 32,
     "metadata": {},
     "output_type": "execute_result"
    }
   ],
   "source": [
    "df.head()"
   ],
   "metadata": {
    "collapsed": false,
    "ExecuteTime": {
     "start_time": "2023-05-29T21:31:27.530961Z",
     "end_time": "2023-05-29T21:31:27.682958Z"
    }
   }
  },
  {
   "cell_type": "code",
   "execution_count": 33,
   "outputs": [
    {
     "name": "stdout",
     "output_type": "stream",
     "text": [
      "Przypisanie dla kolumny gender:\n",
      "{'female': 0, 'male': 1, 'other': 2}\n",
      "\n",
      "Przypisanie dla kolumny ever_married:\n",
      "{'no': 0, 'yes': 1}\n",
      "\n",
      "Przypisanie dla kolumny work_type:\n",
      "{'children': 0, 'govt_job': 1, 'never_worked': 2, 'private': 3, 'self-employed': 4}\n",
      "\n",
      "Przypisanie dla kolumny residence_type:\n",
      "{'rural': 0, 'urban': 1}\n",
      "\n",
      "Przypisanie dla kolumny smoking_status:\n",
      "{'formerly smoked': 0, 'never smoked': 1, 'smokes': 2, 'unknown': 3}\n",
      "\n"
     ]
    },
    {
     "data": {
      "text/plain": "   gender  age  hypertension  heart_disease  ever_married  work_type  \\\n0       1   67             0              1             1          3   \n1       0   61             0              0             1          4   \n2       1   80             0              1             1          3   \n3       0   49             0              0             1          3   \n4       0   79             1              0             1          4   \n\n   residence_type  avg_glucose_level   bmi  smoking_status  stroke  \n0               1             228.69  36.6               0       1  \n1               0             202.21  28.9               1       1  \n2               0             105.92  32.5               1       1  \n3               1             171.23  34.4               2       1  \n4               0             174.12  24.0               1       1  ",
      "text/html": "<div>\n<style scoped>\n    .dataframe tbody tr th:only-of-type {\n        vertical-align: middle;\n    }\n\n    .dataframe tbody tr th {\n        vertical-align: top;\n    }\n\n    .dataframe thead th {\n        text-align: right;\n    }\n</style>\n<table border=\"1\" class=\"dataframe\">\n  <thead>\n    <tr style=\"text-align: right;\">\n      <th></th>\n      <th>gender</th>\n      <th>age</th>\n      <th>hypertension</th>\n      <th>heart_disease</th>\n      <th>ever_married</th>\n      <th>work_type</th>\n      <th>residence_type</th>\n      <th>avg_glucose_level</th>\n      <th>bmi</th>\n      <th>smoking_status</th>\n      <th>stroke</th>\n    </tr>\n  </thead>\n  <tbody>\n    <tr>\n      <th>0</th>\n      <td>1</td>\n      <td>67</td>\n      <td>0</td>\n      <td>1</td>\n      <td>1</td>\n      <td>3</td>\n      <td>1</td>\n      <td>228.69</td>\n      <td>36.6</td>\n      <td>0</td>\n      <td>1</td>\n    </tr>\n    <tr>\n      <th>1</th>\n      <td>0</td>\n      <td>61</td>\n      <td>0</td>\n      <td>0</td>\n      <td>1</td>\n      <td>4</td>\n      <td>0</td>\n      <td>202.21</td>\n      <td>28.9</td>\n      <td>1</td>\n      <td>1</td>\n    </tr>\n    <tr>\n      <th>2</th>\n      <td>1</td>\n      <td>80</td>\n      <td>0</td>\n      <td>1</td>\n      <td>1</td>\n      <td>3</td>\n      <td>0</td>\n      <td>105.92</td>\n      <td>32.5</td>\n      <td>1</td>\n      <td>1</td>\n    </tr>\n    <tr>\n      <th>3</th>\n      <td>0</td>\n      <td>49</td>\n      <td>0</td>\n      <td>0</td>\n      <td>1</td>\n      <td>3</td>\n      <td>1</td>\n      <td>171.23</td>\n      <td>34.4</td>\n      <td>2</td>\n      <td>1</td>\n    </tr>\n    <tr>\n      <th>4</th>\n      <td>0</td>\n      <td>79</td>\n      <td>1</td>\n      <td>0</td>\n      <td>1</td>\n      <td>4</td>\n      <td>0</td>\n      <td>174.12</td>\n      <td>24.0</td>\n      <td>1</td>\n      <td>1</td>\n    </tr>\n  </tbody>\n</table>\n</div>"
     },
     "execution_count": 33,
     "metadata": {},
     "output_type": "execute_result"
    }
   ],
   "source": [
    "from sklearn.preprocessing import LabelEncoder\n",
    "\n",
    "df_encoded = df.copy()\n",
    "label_encoder = LabelEncoder()\n",
    "columns_to_encode = ['gender', 'ever_married', 'work_type', 'residence_type', 'smoking_status']\n",
    "\n",
    "for column in columns_to_encode:\n",
    "    df_encoded[column] = label_encoder.fit_transform(df_encoded[column])\n",
    "    print(f\"Przypisanie dla kolumny {column}:\")\n",
    "    print(dict(zip(label_encoder.classes_, label_encoder.transform(label_encoder.classes_))))\n",
    "    print()\n",
    "\n",
    "df_encoded.head()"
   ],
   "metadata": {
    "collapsed": false,
    "ExecuteTime": {
     "start_time": "2023-05-29T21:31:27.567963Z",
     "end_time": "2023-05-29T21:31:27.777959Z"
    }
   }
  },
  {
   "cell_type": "code",
   "execution_count": 34,
   "outputs": [
    {
     "name": "stdout",
     "output_type": "stream",
     "text": [
      "RandomForestClassifierModel Train Score is: 1.0\n",
      "RandomForestClassifierModel Test Score is: 0.943\n",
      "Accuracy: 0.943\n",
      "Precision: 0.918\n",
      "Recall: 0.973\n",
      "F1 Score: 0.944\n",
      "Confusion Matrix:\n",
      "[[1330  127]\n",
      " [  40 1420]]\n"
     ]
    },
    {
     "data": {
      "text/plain": "<Figure size 640x480 with 1 Axes>",
      "image/png": "[encoded data removed]"
     },
     "metadata": {},
     "output_type": "display_data"
    }
   ],
   "source": [
    "from sklearn.model_selection import train_test_split, cross_val_score\n",
    "from sklearn.preprocessing import StandardScaler\n",
    "from sklearn.ensemble import RandomForestClassifier\n",
    "from sklearn.metrics import accuracy_score, precision_score, recall_score, f1_score, confusion_matrix\n",
    "from imblearn.over_sampling import SMOTE\n",
    "import seaborn as sns\n",
    "import matplotlib.pyplot as plt\n",
    "\n",
    "X = df_encoded.drop('stroke', axis=1)\n",
    "y = df_encoded['stroke']\n",
    "\n",
    "smote = SMOTE()\n",
    "X_smote, y_smote = smote.fit_resample(X, y)\n",
    "\n",
    "X_train, X_test, y_train, y_test = train_test_split(X_smote, y_smote, test_size=0.3, random_state=42)\n",
    "\n",
    "scaler = StandardScaler()\n",
    "X_train_scaled = scaler.fit_transform(X_train)\n",
    "X_test_scaled = scaler.transform(X_test)\n",
    "\n",
    "randomforest_model = RandomForestClassifier(random_state=42)\n",
    "randomforest_model.fit(X_train_scaled, y_train)\n",
    "\n",
    "train_score = round(randomforest_model.score(X_train_scaled, y_train), 3)\n",
    "test_score = round(randomforest_model.score(X_test_scaled, y_test), 3)\n",
    "\n",
    "print('RandomForestClassifierModel Train Score is:', train_score)\n",
    "print('RandomForestClassifierModel Test Score is:', test_score)\n",
    "\n",
    "y_pred = randomforest_model.predict(X_test_scaled)\n",
    "\n",
    "accuracy = round(accuracy_score(y_test, y_pred), 3)\n",
    "precision = round(precision_score(y_test, y_pred, zero_division=1), 3)\n",
    "recall = round(recall_score(y_test, y_pred, zero_division=1), 3)\n",
    "f1 = round(f1_score(y_test, y_pred, zero_division=1), 3)\n",
    "\n",
    "print('Accuracy:', accuracy)\n",
    "print('Precision:', precision)\n",
    "print('Recall:', recall)\n",
    "print('F1 Score:', f1)\n",
    "\n",
    "cm = confusion_matrix(y_test, y_pred)\n",
    "\n",
    "print(\"Confusion Matrix:\")\n",
    "print(cm)\n",
    "sns.heatmap(cm, annot=True, fmt='d', cmap='Blues', cbar=False)\n",
    "plt.xlabel('Predicted')\n",
    "plt.ylabel('Actual')\n",
    "plt.show()"
   ],
   "metadata": {
    "collapsed": false,
    "ExecuteTime": {
     "start_time": "2023-05-29T21:31:27.622962Z",
     "end_time": "2023-05-29T21:31:29.134958Z"
    }
   }
  },
  {
   "cell_type": "code",
   "execution_count": 35,
   "outputs": [
    {
     "name": "stdout",
     "output_type": "stream",
     "text": [
      "Logistic Regression Model Train Score: 0.805\n",
      "Logistic Regression Model Test Score: 0.807\n",
      "Accuracy: 0.807\n",
      "Precision: 0.793\n",
      "Recall: 0.832\n",
      "F1 Score: 0.812\n",
      "Confusion Matrix:\n",
      "[[1139  318]\n",
      " [ 245 1215]]\n"
     ]
    },
    {
     "data": {
      "text/plain": "<Figure size 640x480 with 1 Axes>",
      "image/png": "[encoded data removed]"
     },
     "metadata": {},
     "output_type": "display_data"
    }
   ],
   "source": [
    "from sklearn.linear_model import LogisticRegression\n",
    "\n",
    "logistic_regression_model = LogisticRegression(random_state=42)\n",
    "logistic_regression_model.fit(X_train_scaled, y_train)\n",
    "\n",
    "train_score = round(logistic_regression_model.score(X_train_scaled, y_train), 3)\n",
    "test_score = round(logistic_regression_model.score(X_test_scaled, y_test), 3)\n",
    "\n",
    "print('Logistic Regression Model Train Score:', train_score)\n",
    "print('Logistic Regression Model Test Score:', test_score)\n",
    "\n",
    "y_pred = logistic_regression_model.predict(X_test_scaled)\n",
    "\n",
    "accuracy = round(accuracy_score(y_test, y_pred), 3)\n",
    "precision = round(precision_score(y_test, y_pred, zero_division=1), 3)\n",
    "recall = round(recall_score(y_test, y_pred, zero_division=1), 3)\n",
    "f1 = round(f1_score(y_test, y_pred, zero_division=1), 3)\n",
    "\n",
    "print('Accuracy:', accuracy)\n",
    "print('Precision:', precision)\n",
    "print('Recall:', recall)\n",
    "print('F1 Score:', f1)\n",
    "\n",
    "cm = confusion_matrix(y_test, y_pred)\n",
    "\n",
    "print(\"Confusion Matrix:\")\n",
    "print(cm)\n",
    "sns.heatmap(cm, annot=True, fmt='d', cmap='Blues', cbar=False)\n",
    "plt.xlabel('Predicted')\n",
    "plt.ylabel('Actual')\n",
    "plt.show()"
   ],
   "metadata": {
    "collapsed": false,
    "ExecuteTime": {
     "start_time": "2023-05-29T21:31:29.129964Z",
     "end_time": "2023-05-29T21:31:29.300957Z"
    }
   }
  },
  {
   "cell_type": "code",
   "execution_count": 36,
   "outputs": [
    {
     "name": "stderr",
     "output_type": "stream",
     "text": [
      "C:\\Users\\lespa\\anaconda3\\lib\\site-packages\\sklearn\\neighbors\\_classification.py:228: FutureWarning: Unlike other reduction functions (e.g. `skew`, `kurtosis`), the default behavior of `mode` typically preserves the axis it acts along. In SciPy 1.11.0, this behavior will change: the default value of `keepdims` will become False, the `axis` over which the statistic is taken will be eliminated, and the value None will no longer be accepted. Set `keepdims` to True or False to avoid this warning.\n",
      "  mode, _ = stats.mode(_y[neigh_ind, k], axis=1)\n",
      "C:\\Users\\lespa\\anaconda3\\lib\\site-packages\\sklearn\\neighbors\\_classification.py:228: FutureWarning: Unlike other reduction functions (e.g. `skew`, `kurtosis`), the default behavior of `mode` typically preserves the axis it acts along. In SciPy 1.11.0, this behavior will change: the default value of `keepdims` will become False, the `axis` over which the statistic is taken will be eliminated, and the value None will no longer be accepted. Set `keepdims` to True or False to avoid this warning.\n",
      "  mode, _ = stats.mode(_y[neigh_ind, k], axis=1)\n"
     ]
    },
    {
     "name": "stdout",
     "output_type": "stream",
     "text": [
      "kNN Model Train Score: 0.905\n",
      "kNN Model Test Score: 0.87\n"
     ]
    },
    {
     "name": "stderr",
     "output_type": "stream",
     "text": [
      "C:\\Users\\lespa\\anaconda3\\lib\\site-packages\\sklearn\\neighbors\\_classification.py:228: FutureWarning: Unlike other reduction functions (e.g. `skew`, `kurtosis`), the default behavior of `mode` typically preserves the axis it acts along. In SciPy 1.11.0, this behavior will change: the default value of `keepdims` will become False, the `axis` over which the statistic is taken will be eliminated, and the value None will no longer be accepted. Set `keepdims` to True or False to avoid this warning.\n",
      "  mode, _ = stats.mode(_y[neigh_ind, k], axis=1)\n"
     ]
    },
    {
     "name": "stdout",
     "output_type": "stream",
     "text": [
      "Accuracy: 0.87\n",
      "Precision: 0.818\n",
      "Recall: 0.951\n",
      "F1 Score: 0.88\n",
      "Confusion Matrix:\n",
      "[[1148  309]\n",
      " [  71 1389]]\n"
     ]
    },
    {
     "data": {
      "text/plain": "<Figure size 640x480 with 1 Axes>",
      "image/png": "[encoded data removed]"
     },
     "metadata": {},
     "output_type": "display_data"
    }
   ],
   "source": [
    "from sklearn.neighbors import KNeighborsClassifier\n",
    "\n",
    "knn_model = KNeighborsClassifier(n_neighbors=5)\n",
    "knn_model.fit(X_train_scaled, y_train)\n",
    "\n",
    "train_score = round(knn_model.score(X_train_scaled, y_train), 3)\n",
    "test_score = round(knn_model.score(X_test_scaled, y_test), 3)\n",
    "\n",
    "print('kNN Model Train Score:', train_score)\n",
    "print('kNN Model Test Score:', test_score)\n",
    "\n",
    "y_pred = knn_model.predict(X_test_scaled)\n",
    "\n",
    "accuracy = round(accuracy_score(y_test, y_pred), 3)\n",
    "precision = round(precision_score(y_test, y_pred, zero_division=1), 3)\n",
    "recall = round(recall_score(y_test, y_pred, zero_division=1), 3)\n",
    "f1 = round(f1_score(y_test, y_pred, zero_division=1), 3)\n",
    "\n",
    "print('Accuracy:', accuracy)\n",
    "print('Precision:', precision)\n",
    "print('Recall:', recall)\n",
    "print('F1 Score:', f1)\n",
    "\n",
    "cm = confusion_matrix(y_test, y_pred)\n",
    "\n",
    "print(\"Confusion Matrix:\")\n",
    "print(cm)\n",
    "sns.heatmap(cm, annot=True, fmt='d', cmap='Blues', cbar=False)\n",
    "plt.xlabel('Predicted')\n",
    "plt.ylabel('Actual')\n",
    "plt.show()"
   ],
   "metadata": {
    "collapsed": false,
    "ExecuteTime": {
     "start_time": "2023-05-29T21:31:29.278961Z",
     "end_time": "2023-05-29T21:31:30.524960Z"
    }
   }
  },
  {
   "cell_type": "code",
   "execution_count": 37,
   "outputs": [
    {
     "name": "stdout",
     "output_type": "stream",
     "text": [
      "Random Forest Mean Cross-Validation Score: 0.926\n",
      "Logistic Regression Mean Cross-Validation Score: 0.803\n"
     ]
    },
    {
     "name": "stderr",
     "output_type": "stream",
     "text": [
      "C:\\Users\\lespa\\anaconda3\\lib\\site-packages\\sklearn\\neighbors\\_classification.py:228: FutureWarning: Unlike other reduction functions (e.g. `skew`, `kurtosis`), the default behavior of `mode` typically preserves the axis it acts along. In SciPy 1.11.0, this behavior will change: the default value of `keepdims` will become False, the `axis` over which the statistic is taken will be eliminated, and the value None will no longer be accepted. Set `keepdims` to True or False to avoid this warning.\n",
      "  mode, _ = stats.mode(_y[neigh_ind, k], axis=1)\n",
      "C:\\Users\\lespa\\anaconda3\\lib\\site-packages\\sklearn\\neighbors\\_classification.py:228: FutureWarning: Unlike other reduction functions (e.g. `skew`, `kurtosis`), the default behavior of `mode` typically preserves the axis it acts along. In SciPy 1.11.0, this behavior will change: the default value of `keepdims` will become False, the `axis` over which the statistic is taken will be eliminated, and the value None will no longer be accepted. Set `keepdims` to True or False to avoid this warning.\n",
      "  mode, _ = stats.mode(_y[neigh_ind, k], axis=1)\n",
      "C:\\Users\\lespa\\anaconda3\\lib\\site-packages\\sklearn\\neighbors\\_classification.py:228: FutureWarning: Unlike other reduction functions (e.g. `skew`, `kurtosis`), the default behavior of `mode` typically preserves the axis it acts along. In SciPy 1.11.0, this behavior will change: the default value of `keepdims` will become False, the `axis` over which the statistic is taken will be eliminated, and the value None will no longer be accepted. Set `keepdims` to True or False to avoid this warning.\n",
      "  mode, _ = stats.mode(_y[neigh_ind, k], axis=1)\n"
     ]
    },
    {
     "name": "stdout",
     "output_type": "stream",
     "text": [
      "kNN Mean Cross-Validation Score: 0.859\n"
     ]
    },
    {
     "name": "stderr",
     "output_type": "stream",
     "text": [
      "C:\\Users\\lespa\\anaconda3\\lib\\site-packages\\sklearn\\neighbors\\_classification.py:228: FutureWarning: Unlike other reduction functions (e.g. `skew`, `kurtosis`), the default behavior of `mode` typically preserves the axis it acts along. In SciPy 1.11.0, this behavior will change: the default value of `keepdims` will become False, the `axis` over which the statistic is taken will be eliminated, and the value None will no longer be accepted. Set `keepdims` to True or False to avoid this warning.\n",
      "  mode, _ = stats.mode(_y[neigh_ind, k], axis=1)\n",
      "C:\\Users\\lespa\\anaconda3\\lib\\site-packages\\sklearn\\neighbors\\_classification.py:228: FutureWarning: Unlike other reduction functions (e.g. `skew`, `kurtosis`), the default behavior of `mode` typically preserves the axis it acts along. In SciPy 1.11.0, this behavior will change: the default value of `keepdims` will become False, the `axis` over which the statistic is taken will be eliminated, and the value None will no longer be accepted. Set `keepdims` to True or False to avoid this warning.\n",
      "  mode, _ = stats.mode(_y[neigh_ind, k], axis=1)\n"
     ]
    }
   ],
   "source": [
    "cv_scores_rf = cross_val_score(randomforest_model, X_train_scaled, y_train, cv=5)\n",
    "mean_cv_score_rf = round(cv_scores_rf.mean(), 3)\n",
    "print('Random Forest Mean Cross-Validation Score:', mean_cv_score_rf)\n",
    "\n",
    "cv_scores_lr = cross_val_score(logistic_regression_model, X_train_scaled, y_train, cv=5)\n",
    "mean_cv_score_lr = round(cv_scores_lr.mean(), 3)\n",
    "print('Logistic Regression Mean Cross-Validation Score:', mean_cv_score_lr)\n",
    "\n",
    "cv_scores_knn = cross_val_score(knn_model, X_train_scaled, y_train, cv=5)\n",
    "mean_cv_score_knn = round(cv_scores_knn.mean(), 3)\n",
    "print('kNN Mean Cross-Validation Score:', mean_cv_score_knn)"
   ],
   "metadata": {
    "collapsed": false,
    "ExecuteTime": {
     "start_time": "2023-05-29T21:31:30.439974Z",
     "end_time": "2023-05-29T21:31:34.132142Z"
    }
   }
  }
 ],
 "metadata": {
  "kernelspec": {
   "display_name": "Python 3",
   "language": "python",
   "name": "python3"
  },
  "language_info": {
   "codemirror_mode": {
    "name": "ipython",
    "version": 2
   },
   "file_extension": ".py",
   "mimetype": "text/x-python",
   "name": "python",
   "nbconvert_exporter": "python",
   "pygments_lexer": "ipython2",
   "version": "2.7.6"
  }
 },
 "nbformat": 4,
 "nbformat_minor": 0
}
